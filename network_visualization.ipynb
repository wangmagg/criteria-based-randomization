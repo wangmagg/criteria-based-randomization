{
 "cells": [
  {
   "cell_type": "code",
   "execution_count": 11,
   "id": "dc2a60b6",
   "metadata": {},
   "outputs": [],
   "source": [
    "import numpy as np\n",
    "import networkx as nx\n",
    "import pickle\n",
    "from pathlib import Path\n",
    "from pyvis.network import Network"
   ]
  },
  {
   "cell_type": "code",
   "execution_count": 74,
   "id": "f7ea0d27",
   "metadata": {},
   "outputs": [],
   "source": [
    "def plot_net(data_dir, net_mdl_saved, n):\n",
    "    net_subdir = Path(data_dir) / 'networks' / net_mdl_saved\n",
    "    with open(net_subdir / f\"n-{n}.pkl\", 'rb') as input:\n",
    "        G, A, dists = pickle.load(input)\n",
    "    pos = nx.circular_layout(G, scale=500)\n",
    "    nt = Network()\n",
    "    nt.from_nx(G)\n",
    "    for node in nt.get_nodes():\n",
    "        nt.get_node(node)['x'] = pos[node][0]\n",
    "        nt.get_node(node)['y'] = -pos[node][1]\n",
    "        nt.get_node(node)['physics']=False\n",
    "    nt.toggle_physics(False)\n",
    "    nt.show(f'figs/{net_mdl_saved}_n-{n}.html')"
   ]
  },
  {
   "cell_type": "code",
   "execution_count": 75,
   "id": "bceeaff4",
   "metadata": {},
   "outputs": [
    {
     "name": "stdout",
     "output_type": "stream",
     "text": [
      "Graph with 100 nodes and 500 edges\n",
      "Graph with 100 nodes and 475 edges\n"
     ]
    }
   ],
   "source": [
    "data_dir = \"data\"\n",
    "plot_net(data_dir, \"ws_k-10_p-0.10\", 100)\n",
    "plot_net(data_dir, \"ba_m-5\", 100)"
   ]
  }
 ],
 "metadata": {
  "kernelspec": {
   "display_name": "stats361-env",
   "language": "python",
   "name": "stats361-env"
  },
  "language_info": {
   "codemirror_mode": {
    "name": "ipython",
    "version": 3
   },
   "file_extension": ".py",
   "mimetype": "text/x-python",
   "name": "python",
   "nbconvert_exporter": "python",
   "pygments_lexer": "ipython3",
   "version": "3.10.4"
  }
 },
 "nbformat": 4,
 "nbformat_minor": 5
}
